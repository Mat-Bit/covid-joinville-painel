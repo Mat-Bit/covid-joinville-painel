{
  "nbformat": 4,
  "nbformat_minor": 0,
  "metadata": {
    "kernelspec": {
      "display_name": "Python 3",
      "language": "python",
      "name": "python3"
    },
    "language_info": {
      "codemirror_mode": {
        "name": "ipython",
        "version": 3
      },
      "file_extension": ".py",
      "mimetype": "text/x-python",
      "name": "python",
      "nbconvert_exporter": "python",
      "pygments_lexer": "ipython3",
      "version": "3.7.6"
    },
    "colab": {
      "name": "web_scraper.ipynb",
      "provenance": []
    }
  },
  "cells": [
    {
      "cell_type": "markdown",
      "metadata": {
        "id": "ONL3BJfI2Udj",
        "colab_type": "text"
      },
      "source": [
        "**Jupyter Notebook do web_scraper.py**"
      ]
    },
    {
      "cell_type": "code",
      "metadata": {
        "id": "3skAeNe72eJ6",
        "colab_type": "code",
        "colab": {
          "base_uri": "https://localhost:8080/",
          "height": 85
        },
        "outputId": "109436f8-7cb3-4fd7-cdfc-c2e584898ad6"
      },
      "source": [
        "# Instalando a bliblioteca 'rows'\n",
        "!pip install rows"
      ],
      "execution_count": 44,
      "outputs": [
        {
          "output_type": "stream",
          "text": [
            "Requirement already satisfied: rows in /usr/local/lib/python3.6/dist-packages (0.4.1)\n",
            "Requirement already satisfied: unicodecsv in /usr/local/lib/python3.6/dist-packages (from rows) (0.14.1)\n",
            "Requirement already satisfied: six in /usr/local/lib/python3.6/dist-packages (from rows) (1.12.0)\n",
            "Requirement already satisfied: pathlib in /usr/local/lib/python3.6/dist-packages (from rows) (1.0.1)\n"
          ],
          "name": "stdout"
        }
      ]
    },
    {
      "cell_type": "code",
      "metadata": {
        "id": "kr_8lnP62Udk",
        "colab_type": "code",
        "colab": {}
      },
      "source": [
        "# Importando as bibliotecas necessarias:\n",
        "from bs4 import BeautifulSoup\n",
        "from urllib.request import urlopen\n",
        "from urllib.error import HTTPError, URLError\n",
        "import requests\n",
        "import rows\n",
        "from io import BytesIO"
      ],
      "execution_count": 45,
      "outputs": []
    },
    {
      "cell_type": "code",
      "metadata": {
        "id": "gOQbVn972Udq",
        "colab_type": "code",
        "colab": {}
      },
      "source": [
        "# Link da pagina dos dados sobre o COVID-19 de Joinville\n",
        "url_jlle = 'https://www.joinville.sc.gov.br/publicacoes/dados-casos-coronavirus-municipio-de-joinville/'"
      ],
      "execution_count": 46,
      "outputs": []
    },
    {
      "cell_type": "code",
      "metadata": {
        "id": "aJ6-Ieic2Udu",
        "colab_type": "code",
        "colab": {}
      },
      "source": [
        "# Tentando acessar a pagina\n",
        "try:\n",
        "    html = urlopen(url_jlle)\n",
        "except HTTPError as e:\n",
        "    print(e)\n",
        "    exit()\n",
        "except URLError as e:\n",
        "    print(e)\n",
        "    exit()"
      ],
      "execution_count": 47,
      "outputs": []
    },
    {
      "cell_type": "code",
      "metadata": {
        "id": "HbTgKl7x2Udz",
        "colab_type": "code",
        "colab": {}
      },
      "source": [
        "# Extraindo as tabelas com os dados da pagina \n",
        "bs = BeautifulSoup(html, 'lxml')\n",
        "tables = bs.select('.table-responsive')\n",
        "days = []"
      ],
      "execution_count": 48,
      "outputs": []
    },
    {
      "cell_type": "code",
      "metadata": {
        "id": "hL-Rbdp02Ud3",
        "colab_type": "code",
        "colab": {}
      },
      "source": [
        "# Tabela 1: A partir do dia 17/04\n",
        "table = []\n",
        "day = {}\n",
        "count = 0\n",
        "pop_jlle = 590466.0\n",
        "\n",
        "table = tables[1].find_all('td')\n",
        "\n",
        "for row in table:\n",
        "    if count >= 12:\n",
        "        if row.get_text().find('(') != -1:\n",
        "            info = row.get_text().split(\" \")[0]\n",
        "        else:\n",
        "            info = row.get_text()\n",
        "\n",
        "        if count % 12 == 0:\n",
        "            date = row.get_text().split(\" \")[0].split(\"/\")\n",
        "\n",
        "            date_iso = date[2] + '-' + date[1] + '-' + date[0]\n",
        "            day['data_iso'] = date_iso\n",
        "\n",
        "            day['data'] = row.get_text().split(\" \")[0]\n",
        "            day['hora'] = row.get_text().split(\" \")[1]\n",
        "\n",
        "        elif count % 12 == 1:\n",
        "            day['recuperados'] = int(info)\n",
        "        elif count % 12 == 2:\n",
        "            day['internados'] = int(info)\n",
        "        elif count % 12 == 3:\n",
        "            day['isolam_domic'] = int(info)\n",
        "        elif count % 12 == 4:\n",
        "            day['obitos'] = int(info)\n",
        "        elif count % 12 == 5:\n",
        "            day['confirmados'] = int(info)\n",
        "        elif count % 12 == 6:\n",
        "            day['intern_uti'] = int(info)\n",
        "        elif count % 12 == 7:\n",
        "            day['intern_enferm'] = int(info)\n",
        "        elif count % 12 == 9:\n",
        "            day['notificados'] = int(info)\n",
        "        elif count % 12 == 10:\n",
        "            day['descartados'] = int(info)\n",
        "        elif count % 12 == 11:\n",
        "            day['aguard_exame'] = int(info)\n",
        "\n",
        "            day['conf_por_100k'] = round(((day['confirmados'] * 100000) / pop_jlle), 3)\n",
        "\n",
        "            day['taxa_conf_obito'] = round((day['obitos'] / day['confirmados']), 3)\n",
        "\n",
        "            day['obito_por_100k'] = round(((day['obitos'] * 100000) / pop_jlle), 3)\n",
        "\n",
        "            days.append(day)\n",
        "            day = {}\n",
        "    count += 1"
      ],
      "execution_count": 49,
      "outputs": []
    },
    {
      "cell_type": "code",
      "metadata": {
        "id": "hr77-z6h2Ud8",
        "colab_type": "code",
        "colab": {
          "base_uri": "https://localhost:8080/",
          "height": 34
        },
        "outputId": "e1f86abb-a874-4a56-9f7a-9a0f2ce8ea0c"
      },
      "source": [
        "# Tabela 4: Dados ate o dia 16/04\n",
        "table = []\n",
        "day = {}\n",
        "count = 0\n",
        "\n",
        "table = tables[4].find_all('td')\n",
        "\n",
        "for row in table:\n",
        "    if count % 7 == 0:\n",
        "        date = row.get_text().split(\" \")[0].split(\"/\")\n",
        "\n",
        "        date_iso = date[2] + '-' + date[1] + '-' + date[0]\n",
        "        day['data_iso'] = date_iso\n",
        "\n",
        "        day['data'] = row.get_text().split(\" \")[0]\n",
        "        day['hora'] = row.get_text().split(\" \")[1]\n",
        "    elif count % 7 == 1:\n",
        "        day['notificados'] = int(row.get_text())\n",
        "    elif count % 7 == 2:\n",
        "        day['descartados'] = int(row.get_text())\n",
        "    elif count % 7 == 3:\n",
        "        day['aguard_exame'] = int(row.get_text())\n",
        "    elif count % 7 == 4:\n",
        "        day['confirmados'] = int(row.get_text())\n",
        "    elif count % 7 == 5:\n",
        "        try:\n",
        "            day['recuperados'] = int(row.get_text())\n",
        "        except:\n",
        "            pass\n",
        "    elif count % 7 == 6:\n",
        "        day['obitos'] = int(row.get_text())\n",
        "        \n",
        "        day['conf_por_100k'] = round(((day['confirmados'] * 100000) / pop_jlle), 3)\n",
        "        day['taxa_conf_obito'] = round((day['obitos'] / day['confirmados']), 3)\n",
        "        day['obito_por_100k'] = round(((day['obitos'] * 100000) / pop_jlle), 3)\n",
        "        \n",
        "        days.append(day)\n",
        "        day = {}\n",
        "    count += 1"
      ],
      "execution_count": 50,
      "outputs": [
        {
          "output_type": "stream",
          "text": [
            "Count: 0 \tRow: 16/04/2020 18:30\n"
          ],
          "name": "stdout"
        }
      ]
    },
    {
      "cell_type": "code",
      "metadata": {
        "id": "18H9YJwl2UeA",
        "colab_type": "code",
        "colab": {}
      },
      "source": [
        "# Removendo registros que tenham mais de um registro por dia\n",
        "aux_days = []\n",
        "\n",
        "for count in range(len(days)):\n",
        "    if count == 0:\n",
        "        aux_days.append(days[count])\n",
        "    elif days[count]['data'] != days[count-1]['data']:\n",
        "        aux_days.append(days[count])\n",
        "\n",
        "days = aux_days\n",
        "\n",
        "rows_dados = rows.import_from_dicts(days)"
      ],
      "execution_count": 51,
      "outputs": []
    },
    {
      "cell_type": "code",
      "metadata": {
        "id": "nKeGoD4ItkeM",
        "colab_type": "code",
        "colab": {}
      },
      "source": [
        "# Tabela 2: Ocupacao leitos UTI para COVID-19\n",
        "days = []\n",
        "table = []\n",
        "day = {}\n",
        "count = 0\n",
        "\n",
        "table = tables[2].find_all('td')\n",
        "\n",
        "for row in table:\n",
        "    if row.get_text().find('(') != -1:\n",
        "        info = row.get_text().split(\" \")[0]\n",
        "    else:\n",
        "        info = row.get_text()\n",
        "\n",
        "    if count % 6 == 0:\n",
        "        date = row.get_text().split(\" \")[0].split(\"/\")\n",
        "\n",
        "        date_iso = date[2] + '-' + date[1] + '-' + date[0]\n",
        "        day['data_iso'] = date_iso\n",
        "\n",
        "        day['data'] = row.get_text().split(\" \")[0]\n",
        "        day['hora'] = row.get_text().split(\" \")[1]\n",
        "    elif count % 6 == 1:\n",
        "        day['uti_confirmados'] = int(info)\n",
        "    elif count % 6 == 2:\n",
        "        day['uti_descartados'] = int(info)\n",
        "    elif count % 6 == 3:\n",
        "        day['uti_aguard_result'] = int(info)\n",
        "    elif count % 6 == 4:\n",
        "        day['uti_disponivel'] = int(info)\n",
        "    elif count % 6 == 5:\n",
        "        day['uti_total'] = int(info)\n",
        "\n",
        "        days.append(day)\n",
        "        day = {}\n",
        "\n",
        "    count += 1"
      ],
      "execution_count": 52,
      "outputs": []
    },
    {
      "cell_type": "code",
      "metadata": {
        "id": "QIGG7ySvtyeu",
        "colab_type": "code",
        "colab": {}
      },
      "source": [
        "# Tabela 3: Ocupacao leitos de Enfermaria para COVID-19\n",
        "table = []\n",
        "day = {}\n",
        "count = 0\n",
        "\n",
        "table = tables[3].find_all('td')\n",
        "\n",
        "for row in table:\n",
        "    if row.get_text().find('(') != -1:\n",
        "        info = row.get_text().split(\" \")[0]\n",
        "    else:\n",
        "        info = row.get_text()\n",
        "\n",
        "    if count % 6 == 0:\n",
        "        date = row.get_text().split(\" \")[0].split(\"/\")\n",
        "\n",
        "        date_iso = date[2] + '-' + date[1] + '-' + date[0]\n",
        "        day['data_iso'] = date_iso\n",
        "\n",
        "        day['data'] = row.get_text().split(\" \")[0]\n",
        "        day['hora'] = row.get_text().split(\" \")[1]\n",
        "    elif count % 6 == 1:\n",
        "        day['enf_confirmados'] = int(info)\n",
        "    elif count % 6 == 2:\n",
        "        day['enf_descartados'] = int(info)\n",
        "    elif count % 6 == 3:\n",
        "        day['enf_aguard_result'] = int(info)\n",
        "    elif count % 6 == 4:\n",
        "        day['enf_disponivel'] = int(info)\n",
        "    elif count % 6 == 5:\n",
        "        day['enf_total'] = int(info)\n",
        "\n",
        "        for d in days:\n",
        "            if d['data_iso'] == day['data_iso']:\n",
        "                d.update(day)\n",
        "        day = {}\n",
        "\n",
        "    count += 1\n",
        "\n",
        "rows_leitos = rows.import_from_dicts(days)"
      ],
      "execution_count": 53,
      "outputs": []
    },
    {
      "cell_type": "code",
      "metadata": {
        "id": "ue30xOimKkd2",
        "colab_type": "code",
        "colab": {}
      },
      "source": [
        "# Armazenando em uma lista de dicionarios os dados do Brasil.IO: Covid-19\n",
        "days_brasil = []\n",
        "\n",
        "url_brasil_io = 'https://brasil.io/api/dataset/covid19/caso_full/data/'\n",
        "resp = requests.get(url_brasil_io)\n",
        "json_resp = resp.json()\n",
        "\n",
        "while json_resp['next'] != 'null':\n",
        "    for r in json_resp['results']:\n",
        "        days_brasil.append(r)\n",
        "\n",
        "    if json_resp['next'] is None:\n",
        "        break\n",
        "\n",
        "    url_brasil_io = json_resp['next']\n",
        "    resp = requests.get(url_brasil_io)\n",
        "    json_resp = resp.json()"
      ],
      "execution_count": 54,
      "outputs": []
    },
    {
      "cell_type": "code",
      "metadata": {
        "id": "_8k5LbiDuc12",
        "colab_type": "code",
        "colab": {}
      },
      "source": [
        "# Atualizando nesta lista o ultimo registro da cidade de Joinville\n",
        "\n",
        "for day in days_brasil:\n",
        "    if day['city'] == 'Joinville' and day['is_last'] == True:\n",
        "        day['date'] = rows_dados[0].data_iso\n",
        "        day['last_available_confirmed'] = rows_dados[0].confirmados\n",
        "        day['last_available_confirmed_per_100k_inhabitants'] = rows_dados[0].conf_por_100k\n",
        "        day['new_confirmed'] = rows_dados[0].confirmados - rows_dados[1].confirmados\n",
        "        day['last_available_deaths'] = rows_dados[0].obitos\n",
        "        day['new_deaths'] = rows_dados[0].obitos - rows_dados[1].obitos\n",
        "        day['last_available_death_rate'] = rows_dados[0].taxa_conf_obito\n",
        "        break\n",
        "\n",
        "rows_brasil = rows.import_from_dicts(days_brasil)"
      ],
      "execution_count": 55,
      "outputs": []
    },
    {
      "cell_type": "markdown",
      "metadata": {
        "id": "b7Y9PMm32UeF",
        "colab_type": "text"
      },
      "source": [
        "Utilizando a biblioteca **[rows](https://github.com/turicas/rows)** para exportar para .CSV e .XLSX"
      ]
    },
    {
      "cell_type": "code",
      "metadata": {
        "id": "SoBFLHZcdwhG",
        "colab_type": "code",
        "colab": {}
      },
      "source": [
        "# Exportando os dados das cidades brasileiras para .CSV e .XLSX\n",
        "rows.export_to_csv(rows_brasil, \"covid_brasil.csv\") \n",
        "\n",
        "rows.export_to_xlsx(rows_brasil, \"covid_brasil.xlsx\")"
      ],
      "execution_count": null,
      "outputs": []
    },
    {
      "cell_type": "code",
      "metadata": {
        "id": "RPCVjQ1E2UeG",
        "colab_type": "code",
        "colab": {}
      },
      "source": [
        "# Exportando os dados sobre joinville para .CSV e .XLSX\n",
        "rows.export_to_csv(rows_dados, \"covid_joinville.csv\")\n",
        "\n",
        "rows.export_to_xlsx(rows_dados, \"covid_joinville.xlsx\")"
      ],
      "execution_count": null,
      "outputs": []
    },
    {
      "cell_type": "code",
      "metadata": {
        "id": "9y9KOg1pu9Z3",
        "colab_type": "code",
        "colab": {}
      },
      "source": [
        "# Exportando os dados sobre ocupacao dos leitos para .CSV e .XLSX\n",
        "rows.export_to_csv(rows_leitos, \"leitos_uti_enfermaria.csv\")\n",
        "\n",
        "rows.export_to_xlsx(rows_leitos, \"leitos_uti_enfermaria.xlsx\")"
      ],
      "execution_count": null,
      "outputs": []
    }
  ]
}
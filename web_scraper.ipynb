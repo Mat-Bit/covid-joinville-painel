{
 "cells": [
  {
   "cell_type": "markdown",
   "metadata": {},
   "source": [
    "**Jupyter Notebook do web_scraper.py**"
   ]
  },
  {
   "cell_type": "code",
   "execution_count": null,
   "metadata": {},
   "outputs": [],
   "source": [
    "!pip install bs4\n",
    "!pip install rows"
   ]
  },
  {
   "cell_type": "code",
   "execution_count": 1,
   "metadata": {},
   "outputs": [],
   "source": [
    "# Importando as bibliotecas necessarias:\n",
    "from bs4 import BeautifulSoup\n",
    "from urllib.request import urlopen\n",
    "from urllib.error import HTTPError, URLError\n",
    "import rows"
   ]
  },
  {
   "cell_type": "code",
   "execution_count": null,
   "metadata": {},
   "outputs": [],
   "source": [
    "# Link da pagina dos dados sobre o COVID-19 de Joinville\n",
    "url_jlle = 'https://www.joinville.sc.gov.br/publicacoes/dados-casos-coronavirus-municipio-de-joinville/'"
   ]
  },
  {
   "cell_type": "code",
   "execution_count": null,
   "metadata": {},
   "outputs": [],
   "source": [
    "# Tentando acessar a pagina\n",
    "try:\n",
    "    html = urlopen(url_jlle)\n",
    "except HTTPError as e:\n",
    "    print(e)\n",
    "    exit()\n",
    "except URLError as e:\n",
    "    print(e)\n",
    "    exit()"
   ]
  },
  {
   "cell_type": "code",
   "execution_count": null,
   "metadata": {},
   "outputs": [],
   "source": [
    "# Extraindo as tabelas com os dados da pagina \n",
    "bs = BeautifulSoup(html, 'lxml')\n",
    "tables = bs.select('.table-responsive')\n",
    "days = []"
   ]
  },
  {
   "cell_type": "code",
   "execution_count": null,
   "metadata": {},
   "outputs": [],
   "source": [
    "# Tabela 1: A partir do dia 17/04\n",
    "table = []\n",
    "day = {}\n",
    "count = 0\n",
    "\n",
    "table = tables[0].find_all('td')\n",
    "\n",
    "for row in table:\n",
    "    if count >= 12:\n",
    "        if row.get_text().find('(') != -1:\n",
    "            info = row.get_text().split(\" \")[0]\n",
    "        else:\n",
    "            info = row.get_text()\n",
    "\n",
    "        if count % 12 == 0:\n",
    "            date = row.get_text().split(\" \")[0].split(\"/\")\n",
    "\n",
    "            date_iso = date[2] + '-' + date[1] + '-' + date[0]\n",
    "            day['data_iso'] = date_iso\n",
    "\n",
    "            day['data'] = row.get_text().split(\" \")[0]\n",
    "            day['hora'] = row.get_text().split(\" \")[1]\n",
    "        elif count % 12 == 1:\n",
    "            day['recuperados'] = int(info)\n",
    "        elif count % 12 == 2:\n",
    "            day['internados'] = int(info)\n",
    "        elif count % 12 == 3:\n",
    "            day['isolam_domic'] = int(info)\n",
    "        elif count % 12 == 4:\n",
    "            day['obitos'] = int(info)\n",
    "        elif count % 12 == 5:\n",
    "            day['confirmados'] = int(info)\n",
    "        elif count % 12 == 6:\n",
    "            day['intern_uti'] = int(info)\n",
    "        elif count % 12 == 7:\n",
    "            day['intern_enferm'] = int(info)\n",
    "        elif count % 12 == 9:\n",
    "            day['notificados'] = int(info)\n",
    "        elif count % 12 == 10:\n",
    "            day['descartados'] = int(info)\n",
    "        elif count % 12 == 11:\n",
    "            day['aguard_exame'] = int(info)\n",
    "            days.append(day)\n",
    "            day = {}\n",
    "    count += 1"
   ]
  },
  {
   "cell_type": "code",
   "execution_count": null,
   "metadata": {},
   "outputs": [],
   "source": [
    "# Tabela 2: Dados ate o dia 16/04\n",
    "table = []\n",
    "day = {}\n",
    "count = 0\n",
    "\n",
    "table = tables[1].find_all('td')\n",
    "\n",
    "for row in table:\n",
    "    if count % 7 == 0:\n",
    "        date = row.get_text().split(\" \")[0].split(\"/\")\n",
    "        \n",
    "        date_iso = date[2] + '-' + date[1] + '-' + date[0]\n",
    "        day['data_iso'] = date_iso\n",
    "        \n",
    "        day['data'] = row.get_text().split(\" \")[0]\n",
    "        day['hora'] = row.get_text().split(\" \")[1]\n",
    "    elif count % 7 == 1:\n",
    "        day['notificados'] = int(row.get_text())\n",
    "    elif count % 7 == 2:\n",
    "        day['descartados'] = int(row.get_text())\n",
    "    elif count % 7 == 3:\n",
    "        day['aguard_exame'] = int(row.get_text())\n",
    "    elif count % 7 == 4:\n",
    "        day['confirmados'] = int(row.get_text())\n",
    "    elif count % 7 == 5:\n",
    "        try:\n",
    "            day['recuperados'] = int(row.get_text())\n",
    "        except:\n",
    "            pass\n",
    "    elif count % 7 == 6:\n",
    "        day['obitos'] = int(row.get_text())\n",
    "        days.append(day)\n",
    "        day = {}\n",
    "    count += 1"
   ]
  },
  {
   "cell_type": "code",
   "execution_count": null,
   "metadata": {},
   "outputs": [],
   "source": [
    "# Removendo registros que tenham mais de um registro por dia\n",
    "aux_days = []\n",
    "\n",
    "for count in range(len(days)):\n",
    "    if count == 0:\n",
    "        aux_days.append(days[count])\n",
    "    elif days[count]['data'] != days[count-1]['data']:\n",
    "        aux_days.append(days[count])\n",
    "\n",
    "days = aux_days"
   ]
  },
  {
   "cell_type": "markdown",
   "metadata": {},
   "source": [
    "Utilizando a biblioteca **[rows](https://github.com/turicas/rows)** para exportar para .CSV e .XLSX"
   ]
  },
  {
   "cell_type": "code",
   "execution_count": null,
   "metadata": {},
   "outputs": [],
   "source": [
    "# Criando rows table e exportando para .CSV e .XLSX\n",
    "rows_table = rows.import_from_dicts(days)\n",
    "\n",
    "rows.export_to_csv(rows_table, \"covid_joinville.csv\")\n",
    "\n",
    "rows.export_to_xlsx(rows_table, \"covid_joinville.xlsx\")"
   ]
  }
 ],
 "metadata": {
  "kernelspec": {
   "display_name": "Python 3",
   "language": "python",
   "name": "python3"
  },
  "language_info": {
   "codemirror_mode": {
    "name": "ipython",
    "version": 3
   },
   "file_extension": ".py",
   "mimetype": "text/x-python",
   "name": "python",
   "nbconvert_exporter": "python",
   "pygments_lexer": "ipython3",
   "version": "3.7.6"
  }
 },
 "nbformat": 4,
 "nbformat_minor": 4
}
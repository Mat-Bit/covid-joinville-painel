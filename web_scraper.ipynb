{
  "nbformat": 4,
  "nbformat_minor": 0,
  "metadata": {
    "kernelspec": {
      "display_name": "Python 3",
      "language": "python",
      "name": "python3"
    },
    "language_info": {
      "codemirror_mode": {
        "name": "ipython",
        "version": 3
      },
      "file_extension": ".py",
      "mimetype": "text/x-python",
      "name": "python",
      "nbconvert_exporter": "python",
      "pygments_lexer": "ipython3",
      "version": "3.7.6"
    },
    "colab": {
      "name": "web_scraper.ipynb",
      "provenance": []
    }
  },
  "cells": [
    {
      "cell_type": "markdown",
      "metadata": {
        "id": "ONL3BJfI2Udj",
        "colab_type": "text"
      },
      "source": [
        "**Jupyter Notebook do web_scraper.py**"
      ]
    },
    {
      "cell_type": "code",
      "metadata": {
        "id": "3skAeNe72eJ6",
        "colab_type": "code",
        "colab": {}
      },
      "source": [
        "# Instalando a bliblioteca 'rows'\n",
        "!pip install rows"
      ],
      "execution_count": 0,
      "outputs": []
    },
    {
      "cell_type": "code",
      "metadata": {
        "id": "kr_8lnP62Udk",
        "colab_type": "code",
        "colab": {}
      },
      "source": [
        "# Importando as bibliotecas necessarias:\n",
        "from bs4 import BeautifulSoup\n",
        "from urllib.request import urlopen\n",
        "from urllib.error import HTTPError, URLError\n",
        "import requests\n",
        "import rows\n",
        "from io import BytesIO"
      ],
      "execution_count": 0,
      "outputs": []
    },
    {
      "cell_type": "code",
      "metadata": {
        "id": "gOQbVn972Udq",
        "colab_type": "code",
        "colab": {}
      },
      "source": [
        "# Link da pagina dos dados sobre o COVID-19 de Joinville\n",
        "url_jlle = 'https://www.joinville.sc.gov.br/publicacoes/dados-casos-coronavirus-municipio-de-joinville/'"
      ],
      "execution_count": 0,
      "outputs": []
    },
    {
      "cell_type": "code",
      "metadata": {
        "id": "aJ6-Ieic2Udu",
        "colab_type": "code",
        "colab": {}
      },
      "source": [
        "# Tentando acessar a pagina\n",
        "try:\n",
        "    html = urlopen(url_jlle)\n",
        "except HTTPError as e:\n",
        "    print(e)\n",
        "    exit()\n",
        "except URLError as e:\n",
        "    print(e)\n",
        "    exit()"
      ],
      "execution_count": 0,
      "outputs": []
    },
    {
      "cell_type": "code",
      "metadata": {
        "id": "HbTgKl7x2Udz",
        "colab_type": "code",
        "colab": {}
      },
      "source": [
        "# Extraindo as tabelas com os dados da pagina \n",
        "bs = BeautifulSoup(html, 'lxml')\n",
        "tables = bs.select('.table-responsive')\n",
        "days = []"
      ],
      "execution_count": 0,
      "outputs": []
    },
    {
      "cell_type": "code",
      "metadata": {
        "id": "hL-Rbdp02Ud3",
        "colab_type": "code",
        "colab": {}
      },
      "source": [
        "# Tabela 1: A partir do dia 17/04\n",
        "table = []\n",
        "day = {}\n",
        "count = 0\n",
        "\n",
        "table = tables[0].find_all('td')\n",
        "\n",
        "for row in table:\n",
        "    if count >= 12:\n",
        "        if row.get_text().find('(') != -1:\n",
        "            info = row.get_text().split(\" \")[0]\n",
        "        else:\n",
        "            info = row.get_text()\n",
        "\n",
        "        if count % 12 == 0:\n",
        "            date = row.get_text().split(\" \")[0].split(\"/\")\n",
        "            \n",
        "            date_iso = date[2] + '-' + date[1] + '-' + date[0]\n",
        "            day['data_iso'] = date_iso\n",
        "\n",
        "            day['data'] = row.get_text().split(\" \")[0]\n",
        "            day['hora'] = row.get_text().split(\" \")[1]\n",
        "        elif count % 12 == 1:\n",
        "            day['recuperados'] = int(info)\n",
        "        elif count % 12 == 2:\n",
        "            day['internados'] = int(info)\n",
        "        elif count % 12 == 3:\n",
        "            day['isolam_domic'] = int(info)\n",
        "        elif count % 12 == 4:\n",
        "            day['obitos'] = int(info)\n",
        "        elif count % 12 == 5:\n",
        "            day['confirmados'] = int(info)\n",
        "        elif count % 12 == 6:\n",
        "            day['intern_uti'] = int(info)\n",
        "        elif count % 12 == 7:\n",
        "            day['intern_enferm'] = int(info)\n",
        "        elif count % 12 == 9:\n",
        "            day['notificados'] = int(info)\n",
        "        elif count % 12 == 10:\n",
        "            day['descartados'] = int(info)\n",
        "        elif count % 12 == 11:\n",
        "            day['aguard_exame'] = int(info)\n",
        "            days.append(day)\n",
        "            day = {}\n",
        "    count += 1"
      ],
      "execution_count": 0,
      "outputs": []
    },
    {
      "cell_type": "code",
      "metadata": {
        "id": "hr77-z6h2Ud8",
        "colab_type": "code",
        "colab": {}
      },
      "source": [
        "# Tabela 2: Dados ate o dia 16/04\n",
        "table = []\n",
        "day = {}\n",
        "count = 0\n",
        "\n",
        "table = tables[1].find_all('td')\n",
        "\n",
        "for row in table:\n",
        "    if count % 7 == 0:\n",
        "        date = row.get_text().split(\" \")[0].split(\"/\")\n",
        "        \n",
        "        date_iso = date[2] + '-' + date[1] + '-' + date[0]\n",
        "        day['data_iso'] = date_iso\n",
        "        \n",
        "        day['data'] = row.get_text().split(\" \")[0]\n",
        "        day['hora'] = row.get_text().split(\" \")[1]\n",
        "    elif count % 7 == 1:\n",
        "        day['notificados'] = int(row.get_text())\n",
        "    elif count % 7 == 2:\n",
        "        day['descartados'] = int(row.get_text())\n",
        "    elif count % 7 == 3:\n",
        "        day['aguard_exame'] = int(row.get_text())\n",
        "    elif count % 7 == 4:\n",
        "        day['confirmados'] = int(row.get_text())\n",
        "    elif count % 7 == 5:\n",
        "        try:\n",
        "            day['recuperados'] = int(row.get_text())\n",
        "        except:\n",
        "            pass\n",
        "    elif count % 7 == 6:\n",
        "        day['obitos'] = int(row.get_text())\n",
        "        days.append(day)\n",
        "        day = {}\n",
        "    count += 1"
      ],
      "execution_count": 0,
      "outputs": []
    },
    {
      "cell_type": "code",
      "metadata": {
        "id": "18H9YJwl2UeA",
        "colab_type": "code",
        "colab": {}
      },
      "source": [
        "# Removendo registros que tenham mais de um registro por dia\n",
        "aux_days = []\n",
        "\n",
        "for count in range(len(days)):\n",
        "    if count == 0:\n",
        "        aux_days.append(days[count])\n",
        "    elif days[count]['data'] != days[count-1]['data']:\n",
        "        aux_days.append(days[count])\n",
        "\n",
        "days = aux_days"
      ],
      "execution_count": 0,
      "outputs": []
    },
    {
      "cell_type": "code",
      "metadata": {
        "id": "ue30xOimKkd2",
        "colab_type": "code",
        "colab": {}
      },
      "source": [
        "# Gerando um dataframe com os dados do Brasil.IO: Covid-19 e de Joinville\n",
        "rows_dados = rows.import_from_dicts(days)\n",
        "\n",
        "url_brasil_io = 'https://brasil.io/dataset/covid19/caso_full/?format=csv'\n",
        "\n",
        "csv_brasil = requests.get(url_brasil_io).content\n",
        "\n",
        "rows_brasil = rows.import_from_csv(BytesIO(csv_brasil))"
      ],
      "execution_count": 0,
      "outputs": []
    },
    {
      "cell_type": "code",
      "metadata": {
        "id": "ZpdktpDUKtKX",
        "colab_type": "code",
        "colab": {}
      },
      "source": [
        "# Gerando informacoes relativas a populacao de Joinville\n",
        "pop_jlle = [row.estimated_population_2019 for row in rows_brasil if row.city == 'Joinville']\n",
        "pop_jlle = pop_jlle[0]\n",
        "\n",
        "conf_100k = []\n",
        "taxa_obito = []\n",
        "obito_100k = []\n",
        "\n",
        "for i in range(len(rows_dados)):\n",
        "    \n",
        "    conf_atual = rows_dados[i].confirmados\n",
        "    obito_atual = rows_dados[i].obitos\n",
        "\n",
        "    conf_100k.append(round(((conf_atual * 100000) / pop_jlle), 3))\n",
        "    taxa_obito.append(round((obito_atual / conf_atual), 3))\n",
        "    obito_100k.append(round(((obito_atual * 100000) / pop_jlle), 3))"
      ],
      "execution_count": 0,
      "outputs": []
    },
    {
      "cell_type": "code",
      "metadata": {
        "id": "PRtpr6cFK0Ly",
        "colab_type": "code",
        "colab": {}
      },
      "source": [
        "# Adicionando as informacoes para o dataframe principal\n",
        "rows_dados['conf_por_100k'] = conf_100k\n",
        "\n",
        "rows_dados['taxa_conf_obito'] = taxa_obito\n",
        "\n",
        "rows_dados['obito_por_100k'] = obito_100k"
      ],
      "execution_count": 0,
      "outputs": []
    },
    {
      "cell_type": "markdown",
      "metadata": {
        "id": "b7Y9PMm32UeF",
        "colab_type": "text"
      },
      "source": [
        "Utilizando a biblioteca **[rows](https://github.com/turicas/rows)** para exportar para .CSV e .XLSX"
      ]
    },
    {
      "cell_type": "code",
      "metadata": {
        "id": "SoBFLHZcdwhG",
        "colab_type": "code",
        "colab": {}
      },
      "source": [
        "# Exportando os dados das cidades brasileiras para .CSV e .XLSX\n",
        "rows.export_to_csv(rows_brasil, \"covid_brasil.csv\") \n",
        "\n",
        "rows.export_to_xlsx(rows_brasil, \"covid_brasil.xlsx\")"
      ],
      "execution_count": 0,
      "outputs": []
    },
    {
      "cell_type": "code",
      "metadata": {
        "id": "RPCVjQ1E2UeG",
        "colab_type": "code",
        "colab": {}
      },
      "source": [
        "# Criando rows table e exportando para .CSV e .XLSX\n",
        "rows_table = rows.import_from_dicts(days)\n",
        "\n",
        "rows.export_to_csv(rows_table, \"covid_joinville.csv\")\n",
        "\n",
        "rows.export_to_xlsx(rows_table, \"covid_joinville.xlsx\")"
      ],
      "execution_count": 0,
      "outputs": []
    }
  ]
}